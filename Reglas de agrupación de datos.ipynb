{
 "cells": [
  {
   "cell_type": "markdown",
   "id": "c98fce58",
   "metadata": {},
   "source": [
    "# Reglas de agrupación de datos"
   ]
  },
  {
   "cell_type": "code",
   "execution_count": 1,
   "id": "48265aa8",
   "metadata": {},
   "outputs": [],
   "source": [
    "import numpy as np"
   ]
  },
  {
   "cell_type": "code",
   "execution_count": 2,
   "id": "19870a74",
   "metadata": {},
   "outputs": [],
   "source": [
    "def sturges(data):\n",
    "   # para numero datos mayores de 30\n",
    "   num_data = len(data)\n",
    "   num_bins = 1 + int(np.log2(num_data))\n",
    "   print(num_bins)\n",
    "   return num_bins"
   ]
  },
  {
   "cell_type": "code",
   "execution_count": 3,
   "id": "b83f45df",
   "metadata": {},
   "outputs": [],
   "source": [
    "def freedman_diaconis(data):\n",
    "   num_data = len(data)\n",
    "   irq = np.percentile(data, 75) - np.percentile(data, 25)\n",
    "   bin_width = 2 * irq / np.power(num_data, 1/3)\n",
    "   num_bins = int((np.max(data) -  np.min(data)) / bin_width)  + 1\n",
    "   print(num_bins)\n",
    "   return num_bins"
   ]
  },
  {
   "cell_type": "code",
   "execution_count": 4,
   "id": "8a2cb06b",
   "metadata": {},
   "outputs": [],
   "source": [
    "def scott(data):\n",
    "   num_data = 1/(len(data))**(1/3)    \n",
    "   num_bins = int(np.ceil(3.5*(np.std(data))*num_data))\n",
    "   print(num_bins)\n",
    "   return num_bins"
   ]
  },
  {
   "cell_type": "code",
   "execution_count": 5,
   "id": "a41258b5",
   "metadata": {},
   "outputs": [],
   "source": [
    "def raiz(data):\n",
    "   num_data = len(data)\n",
    "   num_bins = int(np.ceil(np.sqrt(num_data)))    \n",
    "   print(num_bins)\n",
    "   return num_bins"
   ]
  }
 ],
 "metadata": {
  "kernelspec": {
   "display_name": "Python 3 (ipykernel)",
   "language": "python",
   "name": "python3"
  },
  "language_info": {
   "codemirror_mode": {
    "name": "ipython",
    "version": 3
   },
   "file_extension": ".py",
   "mimetype": "text/x-python",
   "name": "python",
   "nbconvert_exporter": "python",
   "pygments_lexer": "ipython3",
   "version": "3.10.4"
  },
  "toc": {
   "base_numbering": 1,
   "nav_menu": {},
   "number_sections": false,
   "sideBar": true,
   "skip_h1_title": false,
   "title_cell": "Table of Contents",
   "title_sidebar": "Contents",
   "toc_cell": false,
   "toc_position": {},
   "toc_section_display": true,
   "toc_window_display": false
  }
 },
 "nbformat": 4,
 "nbformat_minor": 5
}
