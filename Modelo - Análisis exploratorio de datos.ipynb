{
 "cells": [
  {
   "cell_type": "markdown",
   "id": "609b2889",
   "metadata": {},
   "source": [
    "## 1. Cargado de librerías"
   ]
  },
  {
   "cell_type": "code",
   "execution_count": 2,
   "id": "3d333b85",
   "metadata": {},
   "outputs": [],
   "source": [
    "import pandas as pd\n",
    "import numpy as np"
   ]
  },
  {
   "cell_type": "markdown",
   "id": "ac8d1815",
   "metadata": {},
   "source": [
    "## 2. Carga de datos\n",
    "Se asume que los datos ya están limpios para su análisis"
   ]
  },
  {
   "cell_type": "markdown",
   "id": "d2c79e6e",
   "metadata": {},
   "source": [
    "### 2.1. Dirección y concatenación para carga de datos"
   ]
  },
  {
   "cell_type": "code",
   "execution_count": 3,
   "id": "e6fd4522",
   "metadata": {},
   "outputs": [],
   "source": [
    "mainpath = \"C:/Users/Carlos/OneDrive/Formación/Python/Modelos/Datasets/\""
   ]
  },
  {
   "cell_type": "markdown",
   "id": "3fb0dc2e",
   "metadata": {
    "heading_collapsed": true
   },
   "source": [
    "### 2.2. Archivo procedente de Microsoft Excel (.xlsx)"
   ]
  },
  {
   "cell_type": "markdown",
   "id": "7f257f6b",
   "metadata": {
    "heading_collapsed": true
   },
   "source": [
    "### 2.3. Archivos de texto (txt)"
   ]
  },
  {
   "cell_type": "markdown",
   "id": "5992421f",
   "metadata": {},
   "source": [
    "### 2.4. Archivos con formato csv"
   ]
  },
  {
   "cell_type": "code",
   "execution_count": 4,
   "id": "24577667",
   "metadata": {},
   "outputs": [],
   "source": [
    "filename = \"Datos de encuesta.csv\"\n",
    "fullpath = mainpath + filename\n",
    "dataset = pd.read_csv(fullpath, sep = \";\")"
   ]
  },
  {
   "cell_type": "markdown",
   "id": "8e92c706",
   "metadata": {
    "tags": []
   },
   "source": [
    "## 3. Ejecución del proceso de análisis exploratorio"
   ]
  },
  {
   "cell_type": "markdown",
   "id": "f8190f26",
   "metadata": {
    "heading_collapsed": true,
    "jp-MarkdownHeadingCollapsed": true,
    "tags": []
   },
   "source": [
    "### Etapa 1: Visualización de preliminar y generalidades"
   ]
  },
  {
   "cell_type": "markdown",
   "id": "e9373297",
   "metadata": {
    "hidden": true
   },
   "source": [
    "Dimensiones del dataset."
   ]
  },
  {
   "cell_type": "code",
   "execution_count": null,
   "id": "4c969e49",
   "metadata": {
    "hidden": true
   },
   "outputs": [],
   "source": [
    "dataset.shape"
   ]
  },
  {
   "cell_type": "markdown",
   "id": "a8839f8b",
   "metadata": {
    "hidden": true
   },
   "source": [
    "Primeras filas de un dataset"
   ]
  },
  {
   "cell_type": "code",
   "execution_count": null,
   "id": "666436a5",
   "metadata": {
    "hidden": true
   },
   "outputs": [],
   "source": [
    "dataset.head()"
   ]
  },
  {
   "cell_type": "markdown",
   "id": "b27e79ad",
   "metadata": {
    "hidden": true
   },
   "source": [
    "Últimas filas de un datset"
   ]
  },
  {
   "cell_type": "code",
   "execution_count": null,
   "id": "e68a277b",
   "metadata": {
    "hidden": true
   },
   "outputs": [],
   "source": [
    "dataset.tail()"
   ]
  },
  {
   "cell_type": "markdown",
   "id": "40c1c2d8",
   "metadata": {
    "hidden": true
   },
   "source": [
    "Obtener los nombre de las variables de un dataset"
   ]
  },
  {
   "cell_type": "code",
   "execution_count": null,
   "id": "fb029247",
   "metadata": {
    "hidden": true
   },
   "outputs": [],
   "source": [
    "dataset.columns"
   ]
  },
  {
   "cell_type": "markdown",
   "id": "b6082b11",
   "metadata": {
    "hidden": true
   },
   "source": [
    "Obtener los valores únicos de una columna"
   ]
  },
  {
   "cell_type": "code",
   "execution_count": null,
   "id": "b09e9435",
   "metadata": {
    "hidden": true
   },
   "outputs": [],
   "source": [
    "dataset[\"Areas\"].unique()"
   ]
  },
  {
   "cell_type": "code",
   "execution_count": null,
   "id": "31763809",
   "metadata": {
    "hidden": true
   },
   "outputs": [],
   "source": [
    "dataset[\"Genero\"].unique()"
   ]
  },
  {
   "cell_type": "markdown",
   "id": "305d3548",
   "metadata": {
    "heading_collapsed": true,
    "jp-MarkdownHeadingCollapsed": true,
    "tags": []
   },
   "source": [
    "### Etapa 2: Identificación del tipo de variables de un dataset"
   ]
  },
  {
   "cell_type": "markdown",
   "id": "7c85bc07",
   "metadata": {
    "hidden": true
   },
   "source": [
    "Verificación del dataframe como tal"
   ]
  },
  {
   "cell_type": "code",
   "execution_count": null,
   "id": "50974067",
   "metadata": {
    "hidden": true
   },
   "outputs": [],
   "source": [
    "type(dataset)"
   ]
  },
  {
   "cell_type": "code",
   "execution_count": null,
   "id": "c81a7fc6",
   "metadata": {
    "hidden": true
   },
   "outputs": [],
   "source": [
    "dataset.dtypes"
   ]
  },
  {
   "cell_type": "markdown",
   "id": "8a66c158",
   "metadata": {
    "hidden": true
   },
   "source": [
    "Cada columna del dataframe es interpretada como una serie"
   ]
  },
  {
   "cell_type": "code",
   "execution_count": null,
   "id": "1ee3a35e",
   "metadata": {
    "hidden": true
   },
   "outputs": [],
   "source": [
    "type(dataset[\"edad\"])"
   ]
  },
  {
   "cell_type": "markdown",
   "id": "20704235",
   "metadata": {
    "hidden": true
   },
   "source": [
    "Verificación del tipo de dato contenido en una variable"
   ]
  },
  {
   "cell_type": "code",
   "execution_count": null,
   "id": "29b78266",
   "metadata": {
    "hidden": true
   },
   "outputs": [],
   "source": [
    "dataset[\"edad\"].dtypes"
   ]
  },
  {
   "cell_type": "code",
   "execution_count": null,
   "id": "71769916",
   "metadata": {
    "hidden": true
   },
   "outputs": [],
   "source": [
    "dataset.dtypes"
   ]
  },
  {
   "cell_type": "code",
   "execution_count": null,
   "id": "8ddd769a",
   "metadata": {
    "hidden": true
   },
   "outputs": [],
   "source": [
    "dataset.info(verbose = True)"
   ]
  },
  {
   "cell_type": "code",
   "execution_count": null,
   "id": "557864c8",
   "metadata": {
    "hidden": true
   },
   "outputs": [],
   "source": [
    "dataset.describe(include = \"object\")"
   ]
  },
  {
   "cell_type": "markdown",
   "id": "fccd92a4",
   "metadata": {
    "tags": []
   },
   "source": [
    "### Etapa 3: Selección de medidas de tendencia central y de variabilidad\n",
    "En esta sección se realiza un análisis estadísitco de cada variable disponible en el dataset. El análisis hac e una diferenciación entre las variables cuantitativas y cualitativas."
   ]
  },
  {
   "cell_type": "markdown",
   "id": "5457d468",
   "metadata": {
    "heading_collapsed": true,
    "jp-MarkdownHeadingCollapsed": true,
    "tags": []
   },
   "source": [
    "#### *Análisis estadístico preliminar*"
   ]
  },
  {
   "cell_type": "markdown",
   "id": "d66dbf16",
   "metadata": {
    "hidden": true
   },
   "source": [
    "Resumen rápido de estadísticas"
   ]
  },
  {
   "cell_type": "code",
   "execution_count": null,
   "id": "4772065f",
   "metadata": {
    "hidden": true
   },
   "outputs": [],
   "source": [
    "# Análsis de una columna usando el método apply\n",
    "dataset[\"edad\"].apply({'sum':sum,'min':min,'max':max,'count':len,'mean':np.mean})"
   ]
  },
  {
   "cell_type": "code",
   "execution_count": null,
   "id": "49a20d45",
   "metadata": {
    "hidden": true
   },
   "outputs": [],
   "source": [
    "# Agregando columnas con el método aggregate\n",
    "cuantitative_data.aggregate({sum,min,max,len,np.mean})"
   ]
  },
  {
   "cell_type": "code",
   "execution_count": null,
   "id": "bd889596",
   "metadata": {
    "hidden": true
   },
   "outputs": [],
   "source": [
    "# Por defecto solo se toman solamente las variables cuantitativas\n",
    "dataset.describe()"
   ]
  },
  {
   "cell_type": "markdown",
   "id": "5b2586ee",
   "metadata": {
    "tags": []
   },
   "source": [
    "#### *Funciones y análisis de variables cualitativas*"
   ]
  },
  {
   "cell_type": "code",
   "execution_count": 6,
   "id": "76270026",
   "metadata": {},
   "outputs": [],
   "source": [
    "# Identificación de columnas\n",
    "cols = (\n",
    "    pd.DataFrame(dataset.dtypes).\n",
    "    reset_index().\n",
    "    rename(columns = {\"index\": \"Name\", 0: \"Type\"}))\n",
    "\n",
    "# Selección de variables cualitativas\n",
    "categoric_cols = cols[cols[\"Type\"] == \"object\"][\"Name\"]\n",
    "categoric_data = pd.DataFrame(dataset[categoric_cols])\n",
    "\n",
    "# Creación de la función\n",
    "def cat_analysis (study_var):\n",
    "\n",
    "# Creación de frecuencias\n",
    "    categoric_data.loc[:,('Frecuencia')] = 1\n",
    "    categoric_analysis = (categoric_data.groupby([study_var]).count()[\"Frecuencia\"].\n",
    "                          reset_index().\n",
    "                          rename(columns = {study_var:\"Categoría\"}).\n",
    "                          sort_values(by = ['Frecuencia'], ascending = False))\n",
    "    categoric_analysis.insert(0,\"Variable\",study_var)\n",
    "#    categoric_analysis.reset_index(drop=True, inplace=True)\n",
    "\n",
    "# Frecuencia acumulada\n",
    "    categoric_analysis.loc[:,('Frecuencia_A')] = np.cumsum(categoric_analysis[\"Frecuencia\"])\n",
    "# Frecuencia relativa\n",
    "    categoric_analysis.loc[:,('Frecuencia_rel')] = categoric_analysis[\"Frecuencia\"]/sum(categoric_analysis[\"Frecuencia\"])\n",
    "# Frecuencia relativa acumulada\n",
    "    categoric_analysis.loc[:,('Frecuencia_rel_A')] = np.cumsum(categoric_analysis[\"Frecuencia_rel\"])\n",
    "# Resultado de la función\n",
    "    return categoric_analysis"
   ]
  },
  {
   "cell_type": "code",
   "execution_count": 8,
   "id": "f34974f2",
   "metadata": {},
   "outputs": [
    {
     "data": {
      "text/html": [
       "<div>\n",
       "<style scoped>\n",
       "    .dataframe tbody tr th:only-of-type {\n",
       "        vertical-align: middle;\n",
       "    }\n",
       "\n",
       "    .dataframe tbody tr th {\n",
       "        vertical-align: top;\n",
       "    }\n",
       "\n",
       "    .dataframe thead th {\n",
       "        text-align: right;\n",
       "    }\n",
       "</style>\n",
       "<table border=\"1\" class=\"dataframe\">\n",
       "  <thead>\n",
       "    <tr style=\"text-align: right;\">\n",
       "      <th></th>\n",
       "      <th>Variable</th>\n",
       "      <th>Categoría</th>\n",
       "      <th>Frecuencia</th>\n",
       "      <th>Frecuencia_A</th>\n",
       "      <th>Frecuencia_rel</th>\n",
       "      <th>Frecuencia_rel_A</th>\n",
       "    </tr>\n",
       "  </thead>\n",
       "  <tbody>\n",
       "    <tr>\n",
       "      <th>0</th>\n",
       "      <td>Genero</td>\n",
       "      <td>Mujer</td>\n",
       "      <td>152.0</td>\n",
       "      <td>152.0</td>\n",
       "      <td>0.515254</td>\n",
       "      <td>0.515254</td>\n",
       "    </tr>\n",
       "    <tr>\n",
       "      <th>1</th>\n",
       "      <td>Genero</td>\n",
       "      <td>Varón</td>\n",
       "      <td>143.0</td>\n",
       "      <td>295.0</td>\n",
       "      <td>0.484746</td>\n",
       "      <td>1.000000</td>\n",
       "    </tr>\n",
       "    <tr>\n",
       "      <th>2</th>\n",
       "      <td>Areas</td>\n",
       "      <td>Economico Administrativos</td>\n",
       "      <td>182.0</td>\n",
       "      <td>182.0</td>\n",
       "      <td>0.616949</td>\n",
       "      <td>0.616949</td>\n",
       "    </tr>\n",
       "    <tr>\n",
       "      <th>3</th>\n",
       "      <td>Areas</td>\n",
       "      <td>Ciencias exactas</td>\n",
       "      <td>90.0</td>\n",
       "      <td>272.0</td>\n",
       "      <td>0.305085</td>\n",
       "      <td>0.922034</td>\n",
       "    </tr>\n",
       "    <tr>\n",
       "      <th>4</th>\n",
       "      <td>Areas</td>\n",
       "      <td>Diseño</td>\n",
       "      <td>13.0</td>\n",
       "      <td>285.0</td>\n",
       "      <td>0.044068</td>\n",
       "      <td>0.966102</td>\n",
       "    </tr>\n",
       "    <tr>\n",
       "      <th>5</th>\n",
       "      <td>Areas</td>\n",
       "      <td>Ciencias humanas</td>\n",
       "      <td>8.0</td>\n",
       "      <td>293.0</td>\n",
       "      <td>0.027119</td>\n",
       "      <td>0.993220</td>\n",
       "    </tr>\n",
       "    <tr>\n",
       "      <th>6</th>\n",
       "      <td>Areas</td>\n",
       "      <td>Otras</td>\n",
       "      <td>2.0</td>\n",
       "      <td>295.0</td>\n",
       "      <td>0.006780</td>\n",
       "      <td>1.000000</td>\n",
       "    </tr>\n",
       "    <tr>\n",
       "      <th>7</th>\n",
       "      <td>Meconsidero</td>\n",
       "      <td>Católico</td>\n",
       "      <td>183.0</td>\n",
       "      <td>183.0</td>\n",
       "      <td>0.620339</td>\n",
       "      <td>0.620339</td>\n",
       "    </tr>\n",
       "    <tr>\n",
       "      <th>8</th>\n",
       "      <td>Meconsidero</td>\n",
       "      <td>Cristiano no católico</td>\n",
       "      <td>47.0</td>\n",
       "      <td>230.0</td>\n",
       "      <td>0.159322</td>\n",
       "      <td>0.779661</td>\n",
       "    </tr>\n",
       "    <tr>\n",
       "      <th>9</th>\n",
       "      <td>Meconsidero</td>\n",
       "      <td>Agnóstico</td>\n",
       "      <td>24.0</td>\n",
       "      <td>254.0</td>\n",
       "      <td>0.081356</td>\n",
       "      <td>0.861017</td>\n",
       "    </tr>\n",
       "    <tr>\n",
       "      <th>10</th>\n",
       "      <td>Meconsidero</td>\n",
       "      <td>Otra</td>\n",
       "      <td>23.0</td>\n",
       "      <td>277.0</td>\n",
       "      <td>0.077966</td>\n",
       "      <td>0.938983</td>\n",
       "    </tr>\n",
       "    <tr>\n",
       "      <th>11</th>\n",
       "      <td>Meconsidero</td>\n",
       "      <td>Ateo</td>\n",
       "      <td>18.0</td>\n",
       "      <td>295.0</td>\n",
       "      <td>0.061017</td>\n",
       "      <td>1.000000</td>\n",
       "    </tr>\n",
       "    <tr>\n",
       "      <th>12</th>\n",
       "      <td>Lengua</td>\n",
       "      <td>Castellano</td>\n",
       "      <td>226.0</td>\n",
       "      <td>226.0</td>\n",
       "      <td>0.766102</td>\n",
       "      <td>0.766102</td>\n",
       "    </tr>\n",
       "    <tr>\n",
       "      <th>13</th>\n",
       "      <td>Lengua</td>\n",
       "      <td>Originario</td>\n",
       "      <td>69.0</td>\n",
       "      <td>295.0</td>\n",
       "      <td>0.233898</td>\n",
       "      <td>1.000000</td>\n",
       "    </tr>\n",
       "    <tr>\n",
       "      <th>14</th>\n",
       "      <td>CAN2Rangos</td>\n",
       "      <td>Baja Antisocialidad</td>\n",
       "      <td>279.0</td>\n",
       "      <td>279.0</td>\n",
       "      <td>0.952218</td>\n",
       "      <td>0.952218</td>\n",
       "    </tr>\n",
       "    <tr>\n",
       "      <th>15</th>\n",
       "      <td>CAN2Rangos</td>\n",
       "      <td>Alta Antisocialidad</td>\n",
       "      <td>14.0</td>\n",
       "      <td>293.0</td>\n",
       "      <td>0.047782</td>\n",
       "      <td>1.000000</td>\n",
       "    </tr>\n",
       "    <tr>\n",
       "      <th>16</th>\n",
       "      <td>PROSOCIAL2RANGOS</td>\n",
       "      <td>Baja Prosocialidad</td>\n",
       "      <td>199.0</td>\n",
       "      <td>199.0</td>\n",
       "      <td>0.674576</td>\n",
       "      <td>0.674576</td>\n",
       "    </tr>\n",
       "    <tr>\n",
       "      <th>17</th>\n",
       "      <td>PROSOCIAL2RANGOS</td>\n",
       "      <td>Alta Prosocialidad</td>\n",
       "      <td>96.0</td>\n",
       "      <td>295.0</td>\n",
       "      <td>0.325424</td>\n",
       "      <td>1.000000</td>\n",
       "    </tr>\n",
       "    <tr>\n",
       "      <th>18</th>\n",
       "      <td>ESP2RANGOS</td>\n",
       "      <td>Baja Espiritualidad</td>\n",
       "      <td>201.0</td>\n",
       "      <td>201.0</td>\n",
       "      <td>0.681356</td>\n",
       "      <td>0.681356</td>\n",
       "    </tr>\n",
       "    <tr>\n",
       "      <th>19</th>\n",
       "      <td>ESP2RANGOS</td>\n",
       "      <td>Alta Espiritualidad</td>\n",
       "      <td>94.0</td>\n",
       "      <td>295.0</td>\n",
       "      <td>0.318644</td>\n",
       "      <td>1.000000</td>\n",
       "    </tr>\n",
       "    <tr>\n",
       "      <th>20</th>\n",
       "      <td>EMPATIA2RANGOS</td>\n",
       "      <td>Baja Empatía</td>\n",
       "      <td>160.0</td>\n",
       "      <td>160.0</td>\n",
       "      <td>0.542373</td>\n",
       "      <td>0.542373</td>\n",
       "    </tr>\n",
       "    <tr>\n",
       "      <th>21</th>\n",
       "      <td>EMPATIA2RANGOS</td>\n",
       "      <td>Alta Empatía</td>\n",
       "      <td>135.0</td>\n",
       "      <td>295.0</td>\n",
       "      <td>0.457627</td>\n",
       "      <td>1.000000</td>\n",
       "    </tr>\n",
       "    <tr>\n",
       "      <th>22</th>\n",
       "      <td>RELIGIOSO3RANGOS</td>\n",
       "      <td>Media Religiosidad</td>\n",
       "      <td>142.0</td>\n",
       "      <td>142.0</td>\n",
       "      <td>0.481356</td>\n",
       "      <td>0.481356</td>\n",
       "    </tr>\n",
       "    <tr>\n",
       "      <th>23</th>\n",
       "      <td>RELIGIOSO3RANGOS</td>\n",
       "      <td>Baja Religiosidad</td>\n",
       "      <td>77.0</td>\n",
       "      <td>219.0</td>\n",
       "      <td>0.261017</td>\n",
       "      <td>0.742373</td>\n",
       "    </tr>\n",
       "    <tr>\n",
       "      <th>24</th>\n",
       "      <td>RELIGIOSO3RANGOS</td>\n",
       "      <td>Alta Religiosidad</td>\n",
       "      <td>76.0</td>\n",
       "      <td>295.0</td>\n",
       "      <td>0.257627</td>\n",
       "      <td>1.000000</td>\n",
       "    </tr>\n",
       "    <tr>\n",
       "      <th>25</th>\n",
       "      <td>Meconsidero2categorias</td>\n",
       "      <td>Profesa alguna religión</td>\n",
       "      <td>253.0</td>\n",
       "      <td>253.0</td>\n",
       "      <td>0.857627</td>\n",
       "      <td>0.857627</td>\n",
       "    </tr>\n",
       "    <tr>\n",
       "      <th>26</th>\n",
       "      <td>Meconsidero2categorias</td>\n",
       "      <td>No profesa religión alguna</td>\n",
       "      <td>42.0</td>\n",
       "      <td>295.0</td>\n",
       "      <td>0.142373</td>\n",
       "      <td>1.000000</td>\n",
       "    </tr>\n",
       "    <tr>\n",
       "      <th>27</th>\n",
       "      <td>Edad2rangos</td>\n",
       "      <td>De 21 a 25 años</td>\n",
       "      <td>156.0</td>\n",
       "      <td>156.0</td>\n",
       "      <td>0.528814</td>\n",
       "      <td>0.528814</td>\n",
       "    </tr>\n",
       "    <tr>\n",
       "      <th>28</th>\n",
       "      <td>Edad2rangos</td>\n",
       "      <td>De 17 a 20 años</td>\n",
       "      <td>139.0</td>\n",
       "      <td>295.0</td>\n",
       "      <td>0.471186</td>\n",
       "      <td>1.000000</td>\n",
       "    </tr>\n",
       "    <tr>\n",
       "      <th>29</th>\n",
       "      <td>Religiosidad2rangos</td>\n",
       "      <td>Alta Religiosidad</td>\n",
       "      <td>168.0</td>\n",
       "      <td>168.0</td>\n",
       "      <td>0.569492</td>\n",
       "      <td>0.569492</td>\n",
       "    </tr>\n",
       "    <tr>\n",
       "      <th>30</th>\n",
       "      <td>Religiosidad2rangos</td>\n",
       "      <td>Baja Religiosidad</td>\n",
       "      <td>127.0</td>\n",
       "      <td>295.0</td>\n",
       "      <td>0.430508</td>\n",
       "      <td>1.000000</td>\n",
       "    </tr>\n",
       "    <tr>\n",
       "      <th>31</th>\n",
       "      <td>freqreligiosidad2rangos</td>\n",
       "      <td>Religiosidad de baja frecuencia</td>\n",
       "      <td>193.0</td>\n",
       "      <td>193.0</td>\n",
       "      <td>0.654237</td>\n",
       "      <td>0.654237</td>\n",
       "    </tr>\n",
       "    <tr>\n",
       "      <th>32</th>\n",
       "      <td>freqreligiosidad2rangos</td>\n",
       "      <td>Religiosidad de alta frecuencia</td>\n",
       "      <td>102.0</td>\n",
       "      <td>295.0</td>\n",
       "      <td>0.345763</td>\n",
       "      <td>1.000000</td>\n",
       "    </tr>\n",
       "    <tr>\n",
       "      <th>33</th>\n",
       "      <td>Creenciasreligiosas2rangos</td>\n",
       "      <td>Alto nivel de creencias religiosas</td>\n",
       "      <td>196.0</td>\n",
       "      <td>196.0</td>\n",
       "      <td>0.664407</td>\n",
       "      <td>0.664407</td>\n",
       "    </tr>\n",
       "    <tr>\n",
       "      <th>34</th>\n",
       "      <td>Creenciasreligiosas2rangos</td>\n",
       "      <td>Bajo nivel de creencias religiosas</td>\n",
       "      <td>99.0</td>\n",
       "      <td>295.0</td>\n",
       "      <td>0.335593</td>\n",
       "      <td>1.000000</td>\n",
       "    </tr>\n",
       "    <tr>\n",
       "      <th>35</th>\n",
       "      <td>Prácticasespirituales2rangos</td>\n",
       "      <td>Alta práctica espiritual</td>\n",
       "      <td>177.0</td>\n",
       "      <td>177.0</td>\n",
       "      <td>0.600000</td>\n",
       "      <td>0.600000</td>\n",
       "    </tr>\n",
       "    <tr>\n",
       "      <th>36</th>\n",
       "      <td>Prácticasespirituales2rangos</td>\n",
       "      <td>Baja práctica espiritual</td>\n",
       "      <td>118.0</td>\n",
       "      <td>295.0</td>\n",
       "      <td>0.400000</td>\n",
       "      <td>1.000000</td>\n",
       "    </tr>\n",
       "    <tr>\n",
       "      <th>37</th>\n",
       "      <td>Necesidadesespirt2rangos</td>\n",
       "      <td>Alta necesidad espiritual</td>\n",
       "      <td>220.0</td>\n",
       "      <td>220.0</td>\n",
       "      <td>0.745763</td>\n",
       "      <td>0.745763</td>\n",
       "    </tr>\n",
       "    <tr>\n",
       "      <th>38</th>\n",
       "      <td>Necesidadesespirt2rangos</td>\n",
       "      <td>Baja necesidad espiritual</td>\n",
       "      <td>75.0</td>\n",
       "      <td>295.0</td>\n",
       "      <td>0.254237</td>\n",
       "      <td>1.000000</td>\n",
       "    </tr>\n",
       "    <tr>\n",
       "      <th>39</th>\n",
       "      <td>option_neo</td>\n",
       "      <td>Not Selected</td>\n",
       "      <td>211.0</td>\n",
       "      <td>211.0</td>\n",
       "      <td>0.715254</td>\n",
       "      <td>0.715254</td>\n",
       "    </tr>\n",
       "    <tr>\n",
       "      <th>40</th>\n",
       "      <td>option_neo</td>\n",
       "      <td>Selected</td>\n",
       "      <td>84.0</td>\n",
       "      <td>295.0</td>\n",
       "      <td>0.284746</td>\n",
       "      <td>1.000000</td>\n",
       "    </tr>\n",
       "  </tbody>\n",
       "</table>\n",
       "</div>"
      ],
      "text/plain": [
       "                        Variable                           Categoría  \\\n",
       "0                         Genero                               Mujer   \n",
       "1                         Genero                               Varón   \n",
       "2                          Areas           Economico Administrativos   \n",
       "3                          Areas                    Ciencias exactas   \n",
       "4                          Areas                              Diseño   \n",
       "5                          Areas                    Ciencias humanas   \n",
       "6                          Areas                               Otras   \n",
       "7                    Meconsidero                            Católico   \n",
       "8                    Meconsidero               Cristiano no católico   \n",
       "9                    Meconsidero                           Agnóstico   \n",
       "10                   Meconsidero                                Otra   \n",
       "11                   Meconsidero                                Ateo   \n",
       "12                        Lengua                          Castellano   \n",
       "13                        Lengua                          Originario   \n",
       "14                    CAN2Rangos                 Baja Antisocialidad   \n",
       "15                    CAN2Rangos                 Alta Antisocialidad   \n",
       "16              PROSOCIAL2RANGOS                  Baja Prosocialidad   \n",
       "17              PROSOCIAL2RANGOS                  Alta Prosocialidad   \n",
       "18                    ESP2RANGOS                 Baja Espiritualidad   \n",
       "19                    ESP2RANGOS                 Alta Espiritualidad   \n",
       "20                EMPATIA2RANGOS                        Baja Empatía   \n",
       "21                EMPATIA2RANGOS                        Alta Empatía   \n",
       "22              RELIGIOSO3RANGOS                  Media Religiosidad   \n",
       "23              RELIGIOSO3RANGOS                   Baja Religiosidad   \n",
       "24              RELIGIOSO3RANGOS                   Alta Religiosidad   \n",
       "25        Meconsidero2categorias             Profesa alguna religión   \n",
       "26        Meconsidero2categorias          No profesa religión alguna   \n",
       "27                   Edad2rangos                     De 21 a 25 años   \n",
       "28                   Edad2rangos                     De 17 a 20 años   \n",
       "29           Religiosidad2rangos                   Alta Religiosidad   \n",
       "30           Religiosidad2rangos                   Baja Religiosidad   \n",
       "31       freqreligiosidad2rangos     Religiosidad de baja frecuencia   \n",
       "32       freqreligiosidad2rangos     Religiosidad de alta frecuencia   \n",
       "33    Creenciasreligiosas2rangos  Alto nivel de creencias religiosas   \n",
       "34    Creenciasreligiosas2rangos  Bajo nivel de creencias religiosas   \n",
       "35  Prácticasespirituales2rangos            Alta práctica espiritual   \n",
       "36  Prácticasespirituales2rangos            Baja práctica espiritual   \n",
       "37      Necesidadesespirt2rangos           Alta necesidad espiritual   \n",
       "38      Necesidadesespirt2rangos           Baja necesidad espiritual   \n",
       "39                    option_neo                        Not Selected   \n",
       "40                    option_neo                            Selected   \n",
       "\n",
       "    Frecuencia  Frecuencia_A  Frecuencia_rel  Frecuencia_rel_A  \n",
       "0        152.0         152.0        0.515254          0.515254  \n",
       "1        143.0         295.0        0.484746          1.000000  \n",
       "2        182.0         182.0        0.616949          0.616949  \n",
       "3         90.0         272.0        0.305085          0.922034  \n",
       "4         13.0         285.0        0.044068          0.966102  \n",
       "5          8.0         293.0        0.027119          0.993220  \n",
       "6          2.0         295.0        0.006780          1.000000  \n",
       "7        183.0         183.0        0.620339          0.620339  \n",
       "8         47.0         230.0        0.159322          0.779661  \n",
       "9         24.0         254.0        0.081356          0.861017  \n",
       "10        23.0         277.0        0.077966          0.938983  \n",
       "11        18.0         295.0        0.061017          1.000000  \n",
       "12       226.0         226.0        0.766102          0.766102  \n",
       "13        69.0         295.0        0.233898          1.000000  \n",
       "14       279.0         279.0        0.952218          0.952218  \n",
       "15        14.0         293.0        0.047782          1.000000  \n",
       "16       199.0         199.0        0.674576          0.674576  \n",
       "17        96.0         295.0        0.325424          1.000000  \n",
       "18       201.0         201.0        0.681356          0.681356  \n",
       "19        94.0         295.0        0.318644          1.000000  \n",
       "20       160.0         160.0        0.542373          0.542373  \n",
       "21       135.0         295.0        0.457627          1.000000  \n",
       "22       142.0         142.0        0.481356          0.481356  \n",
       "23        77.0         219.0        0.261017          0.742373  \n",
       "24        76.0         295.0        0.257627          1.000000  \n",
       "25       253.0         253.0        0.857627          0.857627  \n",
       "26        42.0         295.0        0.142373          1.000000  \n",
       "27       156.0         156.0        0.528814          0.528814  \n",
       "28       139.0         295.0        0.471186          1.000000  \n",
       "29       168.0         168.0        0.569492          0.569492  \n",
       "30       127.0         295.0        0.430508          1.000000  \n",
       "31       193.0         193.0        0.654237          0.654237  \n",
       "32       102.0         295.0        0.345763          1.000000  \n",
       "33       196.0         196.0        0.664407          0.664407  \n",
       "34        99.0         295.0        0.335593          1.000000  \n",
       "35       177.0         177.0        0.600000          0.600000  \n",
       "36       118.0         295.0        0.400000          1.000000  \n",
       "37       220.0         220.0        0.745763          0.745763  \n",
       "38        75.0         295.0        0.254237          1.000000  \n",
       "39       211.0         211.0        0.715254          0.715254  \n",
       "40        84.0         295.0        0.284746          1.000000  "
      ]
     },
     "execution_count": 8,
     "metadata": {},
     "output_type": "execute_result"
    }
   ],
   "source": [
    "# Modelo para desarrollar un análisis para todas las variables cualitativas\n",
    "\n",
    "final_df = pd.DataFrame({'Variable' : [],\n",
    "                         'Categoría' : [],\n",
    "                         'Frecuencia' : [],\n",
    "                         'Frecuencia_A' : [],\n",
    "                         'Frecuencia_rel' : [],\n",
    "                         'Frecuencia_rel_A' : []})\n",
    "\n",
    "for i in categoric_cols:\n",
    "    y = cat_analysis(i)\n",
    "    final_df = final_df.append(y).reset_index(drop=True)\n",
    "\n",
    "# El análisis es exportado como archivo csv\n",
    "final_df\n",
    "#final_df.to_csv('Análisis de variables cualitativas.csv')"
   ]
  },
  {
   "cell_type": "markdown",
   "id": "626196bb",
   "metadata": {
    "jp-MarkdownHeadingCollapsed": true,
    "tags": []
   },
   "source": [
    "#### *Funciones y análisis de variables cuantitativas*"
   ]
  },
  {
   "cell_type": "code",
   "execution_count": 5,
   "id": "29f3984b",
   "metadata": {
    "scrolled": true
   },
   "outputs": [
    {
     "data": {
      "text/html": [
       "<div>\n",
       "<style scoped>\n",
       "    .dataframe tbody tr th:only-of-type {\n",
       "        vertical-align: middle;\n",
       "    }\n",
       "\n",
       "    .dataframe tbody tr th {\n",
       "        vertical-align: top;\n",
       "    }\n",
       "\n",
       "    .dataframe thead th {\n",
       "        text-align: right;\n",
       "    }\n",
       "</style>\n",
       "<table border=\"1\" class=\"dataframe\">\n",
       "  <thead>\n",
       "    <tr style=\"text-align: right;\">\n",
       "      <th></th>\n",
       "      <th>variable</th>\n",
       "      <th>count</th>\n",
       "      <th>size</th>\n",
       "      <th>count_NaN</th>\n",
       "      <th>max</th>\n",
       "      <th>min</th>\n",
       "      <th>mean</th>\n",
       "      <th>nanmedian</th>\n",
       "      <th>ptp</th>\n",
       "      <th>var</th>\n",
       "      <th>std</th>\n",
       "      <th>CV</th>\n",
       "    </tr>\n",
       "  </thead>\n",
       "  <tbody>\n",
       "    <tr>\n",
       "      <th>0</th>\n",
       "      <td>CAN1</td>\n",
       "      <td>295</td>\n",
       "      <td>295</td>\n",
       "      <td>0</td>\n",
       "      <td>5.0</td>\n",
       "      <td>1.0</td>\n",
       "      <td>3.42</td>\n",
       "      <td>4.0</td>\n",
       "      <td>4.0</td>\n",
       "      <td>0.99</td>\n",
       "      <td>0.99</td>\n",
       "      <td>0.29</td>\n",
       "    </tr>\n",
       "    <tr>\n",
       "      <th>1</th>\n",
       "      <td>CAN10</td>\n",
       "      <td>295</td>\n",
       "      <td>295</td>\n",
       "      <td>0</td>\n",
       "      <td>5.0</td>\n",
       "      <td>1.0</td>\n",
       "      <td>1.23</td>\n",
       "      <td>1.0</td>\n",
       "      <td>4.0</td>\n",
       "      <td>0.43</td>\n",
       "      <td>0.66</td>\n",
       "      <td>0.53</td>\n",
       "    </tr>\n",
       "    <tr>\n",
       "      <th>2</th>\n",
       "      <td>CAN11</td>\n",
       "      <td>295</td>\n",
       "      <td>295</td>\n",
       "      <td>0</td>\n",
       "      <td>5.0</td>\n",
       "      <td>1.0</td>\n",
       "      <td>1.37</td>\n",
       "      <td>1.0</td>\n",
       "      <td>4.0</td>\n",
       "      <td>0.55</td>\n",
       "      <td>0.74</td>\n",
       "      <td>0.54</td>\n",
       "    </tr>\n",
       "    <tr>\n",
       "      <th>3</th>\n",
       "      <td>CAN12</td>\n",
       "      <td>295</td>\n",
       "      <td>295</td>\n",
       "      <td>0</td>\n",
       "      <td>5.0</td>\n",
       "      <td>1.0</td>\n",
       "      <td>2.43</td>\n",
       "      <td>2.0</td>\n",
       "      <td>4.0</td>\n",
       "      <td>0.99</td>\n",
       "      <td>1.00</td>\n",
       "      <td>0.41</td>\n",
       "    </tr>\n",
       "    <tr>\n",
       "      <th>4</th>\n",
       "      <td>CAN13</td>\n",
       "      <td>295</td>\n",
       "      <td>295</td>\n",
       "      <td>0</td>\n",
       "      <td>5.0</td>\n",
       "      <td>1.0</td>\n",
       "      <td>1.98</td>\n",
       "      <td>2.0</td>\n",
       "      <td>4.0</td>\n",
       "      <td>1.23</td>\n",
       "      <td>1.11</td>\n",
       "      <td>0.56</td>\n",
       "    </tr>\n",
       "  </tbody>\n",
       "</table>\n",
       "</div>"
      ],
      "text/plain": [
       "  variable  count  size  count_NaN  max  min  mean  nanmedian  ptp   var  \\\n",
       "0     CAN1    295   295          0  5.0  1.0  3.42        4.0  4.0  0.99   \n",
       "1    CAN10    295   295          0  5.0  1.0  1.23        1.0  4.0  0.43   \n",
       "2    CAN11    295   295          0  5.0  1.0  1.37        1.0  4.0  0.55   \n",
       "3    CAN12    295   295          0  5.0  1.0  2.43        2.0  4.0  0.99   \n",
       "4    CAN13    295   295          0  5.0  1.0  1.98        2.0  4.0  1.23   \n",
       "\n",
       "    std    CV  \n",
       "0  0.99  0.29  \n",
       "1  0.66  0.53  \n",
       "2  0.74  0.54  \n",
       "3  1.00  0.41  \n",
       "4  1.11  0.56  "
      ]
     },
     "execution_count": 5,
     "metadata": {},
     "output_type": "execute_result"
    }
   ],
   "source": [
    "# Identificación de columnas\n",
    "cols = (\n",
    "    pd.DataFrame(dataset.dtypes).\n",
    "    reset_index().\n",
    "    rename(columns = {\"index\": \"Name\", 0: \"Type\"}))\n",
    "\n",
    "# Selección de variables cualitativas\n",
    "quantitative_cols = cols[cols[\"Type\"] != \"object\"][\"Name\"]\n",
    "quantitative_data = pd.DataFrame(dataset[quantitative_cols])\n",
    "\n",
    "# Selección de estadísticas descriptivas\n",
    "# The major distinction to keep in mind is that \"count\" will not include NaN values whereas \"size\" will.\n",
    "\n",
    "#agg_func_math = {'value':['count', 'nunique', 'size','sum', 'mean','median', 'min', 'max', 'std', 'var','skew']}\n",
    "\n",
    "# Funciones de agregación de numpy\n",
    "agg_func_math = {'value':['count','size', \n",
    "                          lambda x: (np.size(x)-len(x)),\n",
    "                          'max', 'min',\n",
    "                          np.mean, np.nanmedian,\n",
    "                          np.ptp, lambda x: np.var(x,ddof = 1), lambda x: np.std(x,ddof = 1),\n",
    "                          lambda x: ((np.std(x, ddof = 1)) / (np.mean(x)))]}\n",
    "\n",
    "# Anular dinamización de todas las columnas\n",
    "quantitative_analysis = ((quantitative_data.melt(id_vars = None,\n",
    "                                            var_name=\"Variable\",\n",
    "                                            value_vars = list(quantitative_cols))).\n",
    "                         groupby([\"Variable\"]).agg(agg_func_math).round(2).\n",
    "                         reset_index().\n",
    "                         droplevel(level = 0, axis = 1).\n",
    "                         rename(columns = {\"\": \"variable\",\n",
    "                                           \"<lambda_0>\": \"count_NaN\",\n",
    "                                           \"<lambda_1>\": \"var\",\n",
    "                                           \"<lambda_2>\": \"std\",\n",
    "                                           \"<lambda_3>\": \"CV\"}))\n",
    "\n",
    "#quantitative_analysis.rename(columns = {\"<lambda_0>\": \"count_NaN\"})\n",
    "\n",
    "# Visualizar el resultado\n",
    "quantitative_analysis.head()\n",
    "#quantitative_analysis.columns\n",
    "# Guardar resultados \n",
    "#quantitative_analysis.to_csv('Análisis de variables cuantitativas.csv')"
   ]
  }
 ],
 "metadata": {
  "kernelspec": {
   "display_name": "Python 3 (ipykernel)",
   "language": "python",
   "name": "python3"
  },
  "language_info": {
   "codemirror_mode": {
    "name": "ipython",
    "version": 3
   },
   "file_extension": ".py",
   "mimetype": "text/x-python",
   "name": "python",
   "nbconvert_exporter": "python",
   "pygments_lexer": "ipython3",
   "version": "3.9.7"
  }
 },
 "nbformat": 4,
 "nbformat_minor": 5
}
